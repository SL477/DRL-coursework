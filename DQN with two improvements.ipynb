{
 "cells": [
  {
   "cell_type": "markdown",
   "id": "041af281",
   "metadata": {},
   "source": [
    "# DQN with two improvements"
   ]
  },
  {
   "cell_type": "code",
   "execution_count": 1,
   "id": "1e122f7e",
   "metadata": {},
   "outputs": [],
   "source": [
    "from helpers.advanced_map import AdvancedMap\n",
    "\n",
    "from IPython.display import display\n",
    "import networkx as nx\n",
    "import matplotlib.pyplot as plt\n",
    "%matplotlib inline\n",
    "from helpers.r_matrix import r_matrix\n",
    "from helpers.get_available_actions import get_available_actions\n",
    "import numpy as np"
   ]
  },
  {
   "cell_type": "code",
   "execution_count": 2,
   "id": "38579721",
   "metadata": {},
   "outputs": [
    {
     "data": {
      "image/png": "[encoded data removed]",
      "text/plain": [
       "<Figure size 432x288 with 1 Axes>"
      ]
     },
     "metadata": {
      "needs_background": "light"
     },
     "output_type": "display_data"
    }
   ],
   "source": [
    "m = AdvancedMap()\n",
    "m.displayImg()"
   ]
  },
  {
   "cell_type": "code",
   "execution_count": null,
   "id": "64d48a1b",
   "metadata": {},
   "outputs": [],
   "source": [
    "# using https://networkx.org/documentation/stable/tutorial.html\n",
    "# initialise the graph\n",
    "G = nx.Graph()\n",
    "\n",
    "# Get the R Matrix to tell which states connect to other states\n",
    "r = r_matrix(m.map)\n",
    "\n",
    "# check whether the state has access to anythere and if it does then add it. Otherwise don't (this cuts down on the number of nodes)\n",
    "ns = [y for y, row in enumerate(r) if len(get_available_actions(r, y)) > 0]\n",
    "G.add_nodes_from(ns)\n",
    "\n",
    "# start iterating through the R matrix to get the connections\n",
    "for y, row in enumerate(r):\n",
    "    for x, cellweight in enumerate(row):\n",
    "        # if the cell isn't null add the edge and the weight\n",
    "        if not np.isnan(cellweight):\n",
    "            G.add_edge(y, x, weight=cellweight)\n",
    "\n",
    "# draw the graph\n",
    "nx.draw(G, with_labels=True)\n",
    "\n",
    "# Remove the variables\n",
    "del r\n",
    "del G"
   ]
  }
 ],
 "metadata": {
  "kernelspec": {
   "display_name": "Python 3",
   "language": "python",
   "name": "python3"
  },
  "language_info": {
   "codemirror_mode": {
    "name": "ipython",
    "version": 3
   },
   "file_extension": ".py",
   "mimetype": "text/x-python",
   "name": "python",
   "nbconvert_exporter": "python",
   "pygments_lexer": "ipython3",
   "version": "3.8.8"
  }
 },
 "nbformat": 4,
 "nbformat_minor": 5
}
