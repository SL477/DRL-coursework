{
 "cells": [
  {
   "cell_type": "markdown",
   "metadata": {
    "id": "TawK-YKMM4IU"
   },
   "source": [
    "# Soft-Actor Critic"
   ]
  },
  {
   "cell_type": "code",
   "execution_count": 1,
   "metadata": {
    "executionInfo": {
     "elapsed": 2,
     "status": "ok",
     "timestamp": 1650810858064,
     "user": {
      "displayName": "Thomas Fishwick",
      "userId": "17375840183006086804"
     },
     "user_tz": -60
    },
    "id": "eecURk7tM4IY"
   },
   "outputs": [],
   "source": [
    "# From Computer vision lab 6, keeps reloading the code for the objects so that you can work on them without needing to reload the kernal\n",
    "%load_ext autoreload\n",
    "%autoreload 2\n",
    "SAVE_PATH=''"
   ]
  },
  {
   "cell_type": "code",
   "execution_count": 2,
   "metadata": {
    "colab": {
     "base_uri": "https://localhost:8080/"
    },
    "executionInfo": {
     "elapsed": 16169,
     "status": "ok",
     "timestamp": 1650810876999,
     "user": {
      "displayName": "Thomas Fishwick",
      "userId": "17375840183006086804"
     },
     "user_tz": -60
    },
    "id": "a3Lx4MyuVb-j",
    "outputId": "6d97d5b1-46e2-42cc-9acd-1d2a33ec3e57"
   },
   "outputs": [
    {
     "name": "stdout",
     "output_type": "stream",
     "text": [
      "Mounted at /content/drive\n"
     ]
    }
   ],
   "source": [
    "# for colab\n",
    "from google.colab import drive\n",
    "drive.mount('/content/drive')\n",
    "path = '/content/drive/My Drive/Colab Notebooks/DRL/DRL Coursework/'\n",
    "\n",
    "import sys\n",
    "sys.path.append(path)\n",
    "\n",
    "SAVE_PATH=path"
   ]
  },
  {
   "cell_type": "code",
   "execution_count": 3,
   "metadata": {
    "executionInfo": {
     "elapsed": 9082,
     "status": "ok",
     "timestamp": 1650810888374,
     "user": {
      "displayName": "Thomas Fishwick",
      "userId": "17375840183006086804"
     },
     "user_tz": -60
    },
    "id": "7IPqj2CMM4IZ"
   },
   "outputs": [],
   "source": [
    "# imports\n",
    "from helpers.get_available_actions import get_available_actions, adv_action_from_index\n",
    "import numpy as np\n",
    "from helpers.advanced_map import AdvancedMap\n",
    "import matplotlib.pyplot as plt\n",
    "%matplotlib inline\n",
    "import random\n",
    "import torch\n",
    "import math\n",
    "import pickle\n",
    "from collections import namedtuple, deque\n",
    "\n",
    "# determine if we are using cpu or gpu\n",
    "device = torch.device(\"cuda\" if torch.cuda.is_available() else \"cpu\")"
   ]
  },
  {
   "cell_type": "code",
   "execution_count": 4,
   "metadata": {
    "executionInfo": {
     "elapsed": 287,
     "status": "ok",
     "timestamp": 1650810891875,
     "user": {
      "displayName": "Thomas Fishwick",
      "userId": "17375840183006086804"
     },
     "user_tz": -60
    },
    "id": "AG1Or5WSM4Ib"
   },
   "outputs": [],
   "source": [
    "# tuple from page 3, part 3.1 of https://arxiv.org/pdf/1801.01290.pdf\n",
    "# state space\n",
    "# action space\n",
    "# state_transition_probability is initially unknown, s*s*a\n",
    "# reward amount\n",
    "MDP_tuple = namedtuple('MDP_tuple', ['state', 'action', 'next_state', 'reward', 'done'])\n",
    "# from https://pytorch.org/tutorials/intermediate/reinforcement_q_learning.html\n",
    "EPS_START = 0.9\n",
    "EPS_END = 0.05\n",
    "EPS_DECAY = 200"
   ]
  },
  {
   "cell_type": "code",
   "execution_count": 5,
   "metadata": {
    "executionInfo": {
     "elapsed": 258,
     "status": "ok",
     "timestamp": 1650810895230,
     "user": {
      "displayName": "Thomas Fishwick",
      "userId": "17375840183006086804"
     },
     "user_tz": -60
    },
    "id": "Lss9uqw2M4Ic"
   },
   "outputs": [],
   "source": [
    "# Build the Deep Q Network\n",
    "class DQN(torch.nn.Module):\n",
    "    \"\"\"Deep Q Network, sizes based upon the grid search in RLLib\"\"\"\n",
    "\n",
    "    def __init__(self):\n",
    "        \"\"\"Create an instance of the network\"\"\"\n",
    "        # Call the base objects init method\n",
    "        super().__init__()\n",
    "\n",
    "        # our advanced network will be sending in a 53 column list of numbers\n",
    "        self.dense1 = torch.nn.Linear(53, 256)\n",
    "        # normalise the data in the network\n",
    "        self.norm1 = torch.nn.BatchNorm1d(256)\n",
    "\n",
    "        self.dense2 = torch.nn.Linear(256, 256)\n",
    "        self.norm2 = torch.nn.BatchNorm1d(256)\n",
    "\n",
    "        self.dense3 = torch.nn.Linear(256, 256)\n",
    "        self.norm3 = torch.nn.BatchNorm1d(256)\n",
    "\n",
    "        # 5 potential actions\n",
    "        self.dense4 = torch.nn.Linear(256, 5)\n",
    "\n",
    "    def forward(self, x):\n",
    "        \"\"\"Pass the data through the network\"\"\"\n",
    "        # convert the input data to a float, run it through the first dense layer, then through the first batch norm layer and then apply the relu function\n",
    "        output = torch.functional.F.relu(self.norm1(self.dense1(x.float())))\n",
    "        # repeat for \n",
    "        output = torch.functional.F.relu(self.norm2(self.dense2(output)))\n",
    "\n",
    "        output = torch.functional.F.relu(self.norm3(self.dense3(output)))\n",
    "        # reshape the tensor and pass it through the last stage\n",
    "        return self.dense4(output.view(output.size(0), -1))"
   ]
  },
  {
   "cell_type": "code",
   "execution_count": 10,
   "metadata": {
    "executionInfo": {
     "elapsed": 265,
     "status": "ok",
     "timestamp": 1650810939379,
     "user": {
      "displayName": "Thomas Fishwick",
      "userId": "17375840183006086804"
     },
     "user_tz": -60
    },
    "id": "Yg6YsEJXT_-S"
   },
   "outputs": [],
   "source": [
    "class Pi(torch.nn.Module):\n",
    "    \"\"\"Need to work out whether to explore or not\"\"\"\n",
    "\n",
    "    def __init__(self):\n",
    "        \"\"\"Create an instance of the network\"\"\"\n",
    "        # Call the base objects init method\n",
    "        super().__init__()\n",
    "        # our advanced network will be sending in a 53 column list of numbers\n",
    "        self.dense1 = torch.nn.Linear(53, 256)\n",
    "        # normalise the data in the network\n",
    "        self.norm1 = torch.nn.BatchNorm1d(256)\n",
    "\n",
    "        self.dense2 = torch.nn.Linear(256, 256)\n",
    "        self.norm2 = torch.nn.BatchNorm1d(256)\n",
    "\n",
    "        self.dense3 = torch.nn.Linear(256, 256)\n",
    "        self.norm3 = torch.nn.BatchNorm1d(256)\n",
    "\n",
    "        # 2 potential policies, exploit or explore\n",
    "        self.dense4 = torch.nn.Linear(256, 1)\n",
    "    \n",
    "    def forward(self, x):\n",
    "        \"\"\"Pass the data through the network\"\"\"\n",
    "        # convert the input data to a float, run it through the first dense layer, then through the first batch norm layer and then apply the relu function\n",
    "        output = torch.functional.F.relu(self.norm1(self.dense1(x.float())))\n",
    "        # repeat for \n",
    "        output = torch.functional.F.relu(self.norm2(self.dense2(output)))\n",
    "\n",
    "        output = torch.functional.F.relu(self.norm3(self.dense3(output)))\n",
    "        # reshape the tensor and pass it through the last stage\n",
    "        return torch.sigmoid(self.dense4(output.view(output.size(0), -1)))"
   ]
  },
  {
   "cell_type": "code",
   "execution_count": 7,
   "metadata": {
    "executionInfo": {
     "elapsed": 256,
     "status": "ok",
     "timestamp": 1650810899609,
     "user": {
      "displayName": "Thomas Fishwick",
      "userId": "17375840183006086804"
     },
     "user_tz": -60
    },
    "id": "dUM2IOPQM4Id"
   },
   "outputs": [],
   "source": [
    "class ReplayMemory(object):\n",
    "    \"\"\"from https://pytorch.org/tutorials/intermediate/reinforcement_q_learning.html\"\"\"\n",
    "    def __init__(self, capacity):\n",
    "        # uses a deque structure so that as new items are added to the end of the 'list' items at the front are pushed off of it\n",
    "        self.memory = deque([], maxlen=capacity)\n",
    "\n",
    "    def push(self, *args):\n",
    "        \"\"\"Save a transition\"\"\"\n",
    "        self.memory.append(MDP_tuple(*args))\n",
    "\n",
    "    def sample(self, batch_size):\n",
    "        \"\"\"Return a random sample from the memory\"\"\"\n",
    "        return random.sample(self.memory, batch_size)\n",
    "\n",
    "    def __len__(self):\n",
    "        return len(self.memory)\n",
    "\n",
    "    def reset(self):\n",
    "        \"\"\"Clear the memories\"\"\"\n",
    "        # reset the memory\n",
    "        self.memory = deque([], maxlen=self.memory.maxlen)"
   ]
  },
  {
   "cell_type": "code",
   "execution_count": 8,
   "metadata": {
    "executionInfo": {
     "elapsed": 302,
     "status": "ok",
     "timestamp": 1650810901876,
     "user": {
      "displayName": "Thomas Fishwick",
      "userId": "17375840183006086804"
     },
     "user_tz": -60
    },
    "id": "PJOxw1xdM4Id"
   },
   "outputs": [],
   "source": [
    "def select_action(state, steps_done, policy) -> torch.tensor:\n",
    "    \"\"\"Inspired by https://pytorch.org/tutorials/intermediate/reinforcement_q_learning.html.\n",
    "    Takes in the current state and the number of steps and returns an action either from the network or a random action\"\"\"\n",
    "\n",
    "    # if the random number is bigger than the threshold then work out an action from the network\n",
    "    if policy > 0.5:\n",
    "        # don't work out the gradient for this\n",
    "        with torch.no_grad():\n",
    "            # get the max column value, then gets its index and reshape into the expected format\n",
    "            return Q_net(state).max(1)[1].view(1, 1)\n",
    "    # as there is a return in the if statement we don't need an else. return a random number between 0-4 and put it in the right shaped tensor\n",
    "    return torch.tensor([[random.randrange(5)]], device=device, dtype=torch.long)"
   ]
  },
  {
   "cell_type": "code",
   "execution_count": 28,
   "metadata": {
    "colab": {
     "base_uri": "https://localhost:8080/"
    },
    "executionInfo": {
     "elapsed": 98359,
     "status": "ok",
     "timestamp": 1650813299951,
     "user": {
      "displayName": "Thomas Fishwick",
      "userId": "17375840183006086804"
     },
     "user_tz": -60
    },
    "id": "WvpHjhk9M4If",
    "outputId": "94c617c9-4fa7-43f1-db0a-beb53ad80067"
   },
   "outputs": [
    {
     "name": "stderr",
     "output_type": "stream",
     "text": [
      "/usr/local/lib/python3.7/dist-packages/ipykernel_launcher.py:139: UserWarning: Using a target size (torch.Size([256])) that is different to the input size (torch.Size([256, 1])). This will likely lead to incorrect results due to broadcasting. Please ensure they have the same size.\n"
     ]
    },
    {
     "name": "stdout",
     "output_type": "stream",
     "text": [
      "Episode 1, mean reward: -70.57281553398059\n",
      "Episode 2, mean reward: -100.50980392156863\n",
      "Episode 3, mean reward: -94.13725490196079\n",
      "Episode 4, mean reward: -100.0\n",
      "Episode 5, mean reward: -100.36633663366337\n",
      "Episode 6, mean reward: -101.58035714285714\n",
      "Episode 7, mean reward: -100.31683168316832\n",
      "Episode 8, mean reward: -83.12621359223301\n",
      "Episode 9, mean reward: -100.59803921568627\n",
      "Episode 10, mean reward: -100.0\n"
     ]
    }
   ],
   "source": [
    "# using https://spinningup.openai.com/en/latest/algorithms/sac.html\n",
    "\n",
    "# setup the networks and send them to the device\n",
    "Q_net = DQN().to(device)\n",
    "Q_target = DQN().to(device)\n",
    "# load the state dictionary of weights from the q network to the target\n",
    "Q_target.load_state_dict(Q_net.state_dict())\n",
    "# set the target to evaluation mode\n",
    "Q_target.eval()\n",
    "\n",
    "# setup the optimiser\n",
    "Q_optim = torch.optim.SGD(Q_net.parameters(), lr=0.01)\n",
    "\n",
    "Policy_net = Pi().to(device) # theta\n",
    "#Policy_target = Pi().to(device)\n",
    "#Policy_target.load_state_dict(Policy_net.state_dict())\n",
    "\n",
    "P_optim = torch.optim.SGD(Policy_net.parameters(), lr=0.01)\n",
    "\n",
    "# from table 1\n",
    "capacity = 10000\n",
    "discount = 0.99 # γ\n",
    "\n",
    "D = ReplayMemory(capacity)\n",
    "num_updates = 20\n",
    "BATCH_SIZE = 256\n",
    "\n",
    "ALPHA = 1 # TODO find a less random number\n",
    "GAMMA = 0.9\n",
    "\n",
    "mean_rewards = []\n",
    "\n",
    "TARGET_UPDATE = 1\n",
    "\n",
    "for episode in range(1, 11):\n",
    "    # fill up buffer with random actions\n",
    "    D.reset()\n",
    "    Q_net.eval()\n",
    "\n",
    "    rewards = []\n",
    "\n",
    "    while len(D) < capacity:\n",
    "        # fill it up\n",
    "        # Get an instance of the map\n",
    "        amap = AdvancedMap()\n",
    "        # Get the normalised observations\n",
    "        obs, reward, done = amap.convert_observations(amap.reset())\n",
    "\n",
    "        # setup the total reward\n",
    "        total_reward = 0\n",
    "\n",
    "        steps_done = 0\n",
    "        Policy_net.eval()\n",
    "\n",
    "        # run until it is done\n",
    "        while not done:\n",
    "            # put the state into a tensor\n",
    "            state = torch.from_numpy(obs).unsqueeze(0)\n",
    "            \n",
    "            # pick an action and increment the number of steps\n",
    "            pol = Policy_net(state)\n",
    "            pol = pol.item()\n",
    "            action, steps_done = select_action(state, steps_done, pol), steps_done + 1\n",
    "            \n",
    "            # get the action\n",
    "            action = adv_action_from_index(action.item())\n",
    "\n",
    "            # take the action\n",
    "            next_state, reward, done = amap.convert_observations(amap.step(action))\n",
    "\n",
    "            # add to the reward\n",
    "            total_reward += reward\n",
    "\n",
    "            # set next state to nothing if we're done\n",
    "            if done:\n",
    "                next_state = None\n",
    "            \n",
    "            # add to the memories\n",
    "            # namedtuple('MDP_tuple', ['state', 'action', 'next_state', 'reward'])\n",
    "            D.push(obs, torch.tensor([action.index], device=device), next_state, torch.tensor([float(reward)], device=device), done)\n",
    "\n",
    "            # pass the next_state through to the next round\n",
    "            obs = next_state\n",
    "        rewards.append(total_reward)\n",
    "    # start updating\n",
    "    for j in range(num_updates):\n",
    "        Policy_net.train()\n",
    "        # get a batch of transitions from D\n",
    "        transitions = D.sample(BATCH_SIZE)\n",
    "        # convert the batch of transitions to a transition of batches\n",
    "        batch = MDP_tuple(*zip(*transitions))\n",
    "\n",
    "\n",
    "        # compute a mask of non-final states\n",
    "        #non_final_mask = torch.tensor(tuple(map(lambda state: state is not None, batch.next_state)), device=device, dtype=torch.bool)\n",
    "\n",
    "        # get the next states\n",
    "        non_final_next_states = torch.cat([torch.tensor([s], device=device) for s in batch.next_state if s is not None])\n",
    "\n",
    "        state_batch = torch.cat([torch.tensor([s], device=device) for s in batch.state])\n",
    "        action_batch = torch.cat(batch.action)\n",
    "        reward_batch = torch.cat(batch.reward)\n",
    "        action_batch = action_batch.reshape((BATCH_SIZE, 1))\n",
    "\n",
    "        # compute target for the Q functions\n",
    "        y = torch.zeros(BATCH_SIZE, device=device)\n",
    "\n",
    "        targ = Q_target(non_final_next_states).min(1)[0].detach()\n",
    "        targ = torch.reshape(targ, (len(non_final_next_states), 1))\n",
    "        y = torch.reshape(targ - ALPHA * torch.log(Policy_net(non_final_next_states)), (len(non_final_next_states),))\n",
    "\n",
    "        # shape y to fill the gaps\n",
    "        ty = y.tolist()\n",
    "        lst = 0\n",
    "        y = []\n",
    "        for ns in batch.next_state:\n",
    "            if ns is None:\n",
    "                y.append(0)\n",
    "            else:\n",
    "                y.append(ty[lst])\n",
    "                lst = lst + 1\n",
    "        y = torch.tensor(y, device=device)\n",
    "        y = reward_batch + (GAMMA * y)\n",
    "\n",
    "        # Update Q-functions by one step of gradient descent\n",
    "        # work out the Q values\n",
    "        q_vals = Q_net(state_batch).gather(1, action_batch)\n",
    "        q_loss = torch.functional.F.mse_loss(q_vals, y)\n",
    "\n",
    "        # optimise the Q_model\n",
    "        Q_optim.zero_grad()\n",
    "        q_loss.backward()\n",
    "\n",
    "        # clip the gradients\n",
    "        for param in Q_net.parameters():\n",
    "            param.grad.data.clamp_(-1, 1)\n",
    "        Q_optim.step()\n",
    "\n",
    "        # Policy's turn (line 14 of https://spinningup.openai.com/en/latest/algorithms/sac.html#pseudocode)\n",
    "        # update policy by 1 step of gradient ascent\n",
    "        p_loss = torch.mean(Q_net(state_batch) - ALPHA * torch.log(Policy_net(state_batch)))\n",
    "\n",
    "        # optimise the policy model\n",
    "        P_optim.zero_grad()\n",
    "        p_loss.backward()\n",
    "        P_optim.step()\n",
    "    # append mean of rewards to mean_rewards\n",
    "    m_reward = np.mean(rewards)\n",
    "    mean_rewards.append(m_reward)\n",
    "    # update the target\n",
    "    if episode % TARGET_UPDATE == 0:\n",
    "        Q_target.load_state_dict(Q_net.state_dict())\n",
    "    print(f\"Episode {episode}, mean reward: {m_reward}\")"
   ]
  },
  {
   "cell_type": "code",
   "execution_count": 29,
   "metadata": {
    "colab": {
     "base_uri": "https://localhost:8080/",
     "height": 295
    },
    "executionInfo": {
     "elapsed": 420,
     "status": "ok",
     "timestamp": 1650813342837,
     "user": {
      "displayName": "Thomas Fishwick",
      "userId": "17375840183006086804"
     },
     "user_tz": -60
    },
    "id": "A4YYUKNxI_2e",
    "outputId": "f489a2dd-b341-47a5-911a-9539408b3ad7"
   },
   "outputs": [
    {
     "data": {
      "image/png": "[encoded data removed]",
      "text/plain": [
       "<Figure size 432x288 with 1 Axes>"
      ]
     },
     "metadata": {
      "needs_background": "light"
     },
     "output_type": "display_data"
    }
   ],
   "source": [
    "# plot the rewards per episode\n",
    "plt.scatter(list(range(len(mean_rewards))), mean_rewards)\n",
    "plt.title(\"Mean rewards over time, Soft Actor Critic\")\n",
    "plt.xlabel(\"Episode\")\n",
    "plt.ylabel(\"Mean rewards\")\n",
    "plt.show()"
   ]
  },
  {
   "cell_type": "code",
   "execution_count": 30,
   "metadata": {
    "executionInfo": {
     "elapsed": 250,
     "status": "ok",
     "timestamp": 1650813459247,
     "user": {
      "displayName": "Thomas Fishwick",
      "userId": "17375840183006086804"
     },
     "user_tz": -60
    },
    "id": "gOswNjGYJNQb"
   },
   "outputs": [],
   "source": [
    "# Save the data\n",
    "with open(SAVE_PATH + 'data/SAC/rewards.pkl', 'wb') as f:\n",
    "    # serialise the rewards array\n",
    "    pickle.dump(mean_rewards, f)\n",
    "# save the state dict (from https://pytorch.org/tutorials/beginner/saving_loading_models.html)\n",
    "torch.save(Q_net.state_dict(), SAVE_PATH + 'data/SAC/qnet.pth')\n",
    "torch.save(Policy_net.state_dict(), SAVE_PATH + 'data/SAC/policynet.pth')"
   ]
  }
 ],
 "metadata": {
  "colab": {
   "name": "SAC.ipynb",
   "provenance": []
  },
  "interpreter": {
   "hash": "949777d72b0d2535278d3dc13498b2535136f6dfe0678499012e853ee9abcab1"
  },
  "kernelspec": {
   "display_name": "Python 3 (ipykernel)",
   "language": "python",
   "name": "python3"
  },
  "language_info": {
   "codemirror_mode": {
    "name": "ipython",
    "version": 3
   },
   "file_extension": ".py",
   "mimetype": "text/x-python",
   "name": "python",
   "nbconvert_exporter": "python",
   "pygments_lexer": "ipython3",
   "version": "3.8.10"
  }
 },
 "nbformat": 4,
 "nbformat_minor": 4
}
